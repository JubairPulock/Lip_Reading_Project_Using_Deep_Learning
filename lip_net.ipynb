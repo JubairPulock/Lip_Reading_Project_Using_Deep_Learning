{
  "cells": [
    {
      "attachments": {},
      "cell_type": "markdown",
      "metadata": {
        "id": "AbimiVEDo_Mr"
      },
      "source": [
        "#1. Imports and adding Dependencies"
      ]
    },
    {
      "cell_type": "code",
      "execution_count": 1,
      "metadata": {
        "colab": {
          "base_uri": "https://localhost:8080/"
        },
        "id": "LndQO80yo3Hy",
        "outputId": "54eff689-03a0-4731-f968-9bda74a8713d"
      },
      "outputs": [
        {
          "name": "stdout",
          "output_type": "stream",
          "text": [
            "Package                      Version\n",
            "---------------------------- --------\n",
            "absl-py                      1.4.0\n",
            "altair                       4.2.2\n",
            "asttokens                    2.2.1\n",
            "astunparse                   1.6.3\n",
            "attrs                        23.1.0\n",
            "backcall                     0.2.0\n",
            "beautifulsoup4               4.12.2\n",
            "blinker                      1.6.2\n",
            "cachetools                   5.3.0\n",
            "certifi                      2023.5.7\n",
            "charset-normalizer           3.1.0\n",
            "click                        8.1.3\n",
            "colorama                     0.4.6\n",
            "comm                         0.1.3\n",
            "contourpy                    1.0.7\n",
            "cycler                       0.11.0\n",
            "debugpy                      1.6.7\n",
            "decorator                    5.1.1\n",
            "entrypoints                  0.4\n",
            "executing                    1.2.0\n",
            "filelock                     3.12.0\n",
            "flatbuffers                  23.5.9\n",
            "fonttools                    4.39.4\n",
            "gast                         0.4.0\n",
            "gdown                        4.7.1\n",
            "gitdb                        4.0.10\n",
            "GitPython                    3.1.31\n",
            "google-auth                  2.18.1\n",
            "google-auth-oauthlib         1.0.0\n",
            "google-pasta                 0.2.0\n",
            "grpcio                       1.54.2\n",
            "h5py                         3.8.0\n",
            "idna                         3.4\n",
            "imageio                      2.28.1\n",
            "importlib-metadata           6.6.0\n",
            "ipykernel                    6.23.1\n",
            "ipython                      8.13.2\n",
            "jax                          0.4.10\n",
            "jedi                         0.18.2\n",
            "Jinja2                       3.1.2\n",
            "joblib                       1.2.0\n",
            "jsonschema                   4.17.3\n",
            "jupyter_client               8.2.0\n",
            "jupyter_core                 5.3.0\n",
            "keras                        2.12.0\n",
            "kiwisolver                   1.4.4\n",
            "libclang                     16.0.0\n",
            "Markdown                     3.4.3\n",
            "markdown-it-py               2.2.0\n",
            "MarkupSafe                   2.1.2\n",
            "matplotlib                   3.7.1\n",
            "matplotlib-inline            0.1.6\n",
            "mdurl                        0.1.2\n",
            "ml-dtypes                    0.1.0\n",
            "nest-asyncio                 1.5.6\n",
            "numpy                        1.23.5\n",
            "oauthlib                     3.2.2\n",
            "opencv-python                4.7.0.72\n",
            "opt-einsum                   3.3.0\n",
            "packaging                    23.1\n",
            "pandas                       2.0.1\n",
            "parso                        0.8.3\n",
            "pickleshare                  0.7.5\n",
            "Pillow                       9.5.0\n",
            "pip                          23.1.2\n",
            "platformdirs                 3.5.1\n",
            "prompt-toolkit               3.0.38\n",
            "protobuf                     3.20.3\n",
            "psutil                       5.9.5\n",
            "pure-eval                    0.2.2\n",
            "pyarrow                      12.0.0\n",
            "pyasn1                       0.5.0\n",
            "pyasn1-modules               0.3.0\n",
            "pydeck                       0.8.1b0\n",
            "Pygments                     2.15.1\n",
            "Pympler                      1.0.1\n",
            "pyparsing                    3.0.9\n",
            "pyrsistent                   0.19.3\n",
            "PySocks                      1.7.1\n",
            "python-dateutil              2.8.2\n",
            "pytz                         2023.3\n",
            "pywin32                      306\n",
            "pyzmq                        25.0.2\n",
            "requests                     2.30.0\n",
            "requests-oauthlib            1.3.1\n",
            "rich                         13.3.5\n",
            "rsa                          4.9\n",
            "scikit-learn                 1.2.2\n",
            "scipy                        1.10.1\n",
            "seaborn                      0.12.2\n",
            "setuptools                   67.7.2\n",
            "six                          1.16.0\n",
            "smmap                        5.0.0\n",
            "soupsieve                    2.4.1\n",
            "stack-data                   0.6.2\n",
            "streamlit                    1.22.0\n",
            "tenacity                     8.2.2\n",
            "tensorboard                  2.12.3\n",
            "tensorboard-data-server      0.7.0\n",
            "tensorflow                   2.12.0\n",
            "tensorflow-estimator         2.12.0\n",
            "tensorflow-intel             2.12.0\n",
            "tensorflow-io-gcs-filesystem 0.31.0\n",
            "termcolor                    2.3.0\n",
            "threadpoolctl                3.1.0\n",
            "toml                         0.10.2\n",
            "toolz                        0.12.0\n",
            "tornado                      6.3.2\n",
            "tqdm                         4.65.0\n",
            "traitlets                    5.9.0\n",
            "typing_extensions            4.5.0\n",
            "tzdata                       2023.3\n",
            "tzlocal                      5.0.1\n",
            "urllib3                      1.26.15\n",
            "validators                   0.20.0\n",
            "watchdog                     3.0.0\n",
            "wcwidth                      0.2.6\n",
            "Werkzeug                     2.3.4\n",
            "wheel                        0.40.0\n",
            "wrapt                        1.14.1\n",
            "zipp                         3.15.0\n"
          ]
        }
      ],
      "source": [
        "!pip list"
      ]
    },
    {
      "cell_type": "code",
      "execution_count": 2,
      "metadata": {
        "id": "QI5DkhNro9ON"
      },
      "outputs": [],
      "source": [
        "import os\n",
        "import cv2\n",
        "import tensorflow as tf\n",
        "import numpy as np\n",
        "from typing import List\n",
        "from matplotlib import pyplot as plt\n",
        "import imageio"
      ]
    },
    {
      "cell_type": "code",
      "execution_count": 3,
      "metadata": {
        "id": "WipradOUqDA2"
      },
      "outputs": [],
      "source": [
        "physical_devices = tf.config.list_physical_devices('GPU')\n",
        "try:\n",
        "    tf.config.experimental.set_memory_growth(physical_devices[0], True)\n",
        "except:\n",
        "    pass"
      ]
    },
    {
      "attachments": {},
      "cell_type": "markdown",
      "metadata": {
        "id": "Ysuy_U-VxQXT"
      },
      "source": [
        "#2. Get the data"
      ]
    },
    {
      "cell_type": "code",
      "execution_count": 4,
      "metadata": {
        "id": "HmkSWrTQ2UIR"
      },
      "outputs": [],
      "source": [
        "def load_video(path:str) -> List[float]: \n",
        "\n",
        "    cap = cv2.VideoCapture(path)\n",
        "    frames = []\n",
        "    \n",
        "    for _ in range(int(cap.get(cv2.CAP_PROP_FRAME_COUNT))): \n",
        "        ret, frame = cap.read()\n",
        "        frame = tf.image.rgb_to_grayscale(frame)\n",
        "        frames.append(frame[190:236,80:220,:])\n",
        "    cap.release()\n",
        "    \n",
        "    mean = tf.math.reduce_mean(frames)\n",
        "    std = tf.math.reduce_std(tf.cast(frames, tf.float32))\n",
        "    return tf.cast((frames - mean), tf.float32) / std"
      ]
    },
    {
      "cell_type": "code",
      "execution_count": 5,
      "metadata": {
        "id": "elJUcTOD5OR2"
      },
      "outputs": [],
      "source": [
        "vocab = [x for x in \"abcdefghijklmnopqrstuvwxyz'?!123456789 \"]\n"
      ]
    },
    {
      "cell_type": "code",
      "execution_count": 6,
      "metadata": {
        "colab": {
          "base_uri": "https://localhost:8080/"
        },
        "id": "qXTLksdj6AP9",
        "outputId": "1b5c6600-e928-4c32-cf9e-560e6c2747f0"
      },
      "outputs": [
        {
          "name": "stdout",
          "output_type": "stream",
          "text": [
            "The vocabulary is: ['', 'a', 'b', 'c', 'd', 'e', 'f', 'g', 'h', 'i', 'j', 'k', 'l', 'm', 'n', 'o', 'p', 'q', 'r', 's', 't', 'u', 'v', 'w', 'x', 'y', 'z', \"'\", '?', '!', '1', '2', '3', '4', '5', '6', '7', '8', '9', ' '] (size =40)\n"
          ]
        }
      ],
      "source": [
        "char_to_num = tf.keras.layers.StringLookup(vocabulary=vocab, oov_token=\"\")\n",
        "num_to_char = tf.keras.layers.StringLookup(\n",
        "    vocabulary=char_to_num.get_vocabulary(), oov_token=\"\", invert=True\n",
        ")\n",
        "\n",
        "print(\n",
        "    f\"The vocabulary is: {char_to_num.get_vocabulary()} \"\n",
        "    f\"(size ={char_to_num.vocabulary_size()})\"\n",
        ")"
      ]
    },
    {
      "cell_type": "code",
      "execution_count": 7,
      "metadata": {
        "colab": {
          "base_uri": "https://localhost:8080/"
        },
        "id": "nskR9hEc6OPR",
        "outputId": "383f64ad-0d39-4c7b-d626-7655329b9229"
      },
      "outputs": [
        {
          "data": {
            "text/plain": [
              "<tf.Tensor: shape=(5,), dtype=string, numpy=array([b'a', b'b', b'h', b'i', b's'], dtype=object)>"
            ]
          },
          "execution_count": 7,
          "metadata": {},
          "output_type": "execute_result"
        }
      ],
      "source": [
        "char_to_num.get_vocabulary()\n",
        "char_to_num(['a','b','h','i','s'])\n",
        "num_to_char([1,  2,  8,  9, 19])"
      ]
    },
    {
      "cell_type": "code",
      "execution_count": 8,
      "metadata": {
        "id": "f8namfNh6zgX"
      },
      "outputs": [],
      "source": [
        "def load_alignments(path:str) -> List[str]: \n",
        "    with open(path, 'r') as f: \n",
        "        lines = f.readlines() \n",
        "    tokens = []\n",
        "    for line in lines:\n",
        "        line = line.split()\n",
        "        if line[2] != 'sil': \n",
        "            tokens = [*tokens,' ',line[2]]\n",
        "    return char_to_num(tf.reshape(tf.strings.unicode_split(tokens, input_encoding='UTF-8'), (-1)))[1:]\n",
        "\n",
        "def load_data_by_path(path: str): \n",
        "    path = bytes.decode(path.numpy())\n",
        "    file_name = path.split('\\\\')[-1].split('.')[0]\n",
        "    video_path = os.path.join('data','s1',f'{file_name}.mpg')\n",
        "    alignment_path = os.path.join('data','alignments','s1',f'{file_name}.align')\n",
        "    frames = load_video(video_path) \n",
        "    alignments = load_alignments(alignment_path)\n",
        "    \n",
        "    return frames, alignments\n",
        "\n"
      ]
    },
    {
      "cell_type": "code",
      "execution_count": 9,
      "metadata": {
        "colab": {
          "base_uri": "https://localhost:8080/"
        },
        "id": "zgIzYz7X8T0S",
        "outputId": "aec0ce3c-c355-4631-9516-4e9aba61c3c6"
      },
      "outputs": [
        {
          "data": {
            "text/plain": [
              "<tf.Tensor: shape=(), dtype=string, numpy=b'.\\\\data\\\\s1\\\\bbal6n.mpg'>"
            ]
          },
          "execution_count": 9,
          "metadata": {},
          "output_type": "execute_result"
        }
      ],
      "source": [
        "test_path = '.\\\\data\\\\s1\\\\bbal6n.mpg'\n",
        "tf.convert_to_tensor(test_path).numpy().decode('utf-8').split('\\\\')[-1].split('.')[0]\n",
        "tf.convert_to_tensor(test_path)"
      ]
    },
    {
      "cell_type": "code",
      "execution_count": 10,
      "metadata": {
        "id": "JLTdlwWp8T-r"
      },
      "outputs": [],
      "source": [
        "frames, alignments = load_data_by_path(tf.convert_to_tensor(test_path))\n"
      ]
    },
    {
      "cell_type": "code",
      "execution_count": 11,
      "metadata": {
        "colab": {
          "base_uri": "https://localhost:8080/",
          "height": 245
        },
        "id": "54xILIBn8UJk",
        "outputId": "ee54a064-473f-4e14-8913-1f2e9d641d66"
      },
      "outputs": [
        {
          "data": {
            "text/plain": [
              "<matplotlib.image.AxesImage at 0x23e117b9fd0>"
            ]
          },
          "execution_count": 11,
          "metadata": {},
          "output_type": "execute_result"
        },
        {
          "data": {
            "image/png": "[encoded data removed]",
            "text/plain": [
              "<Figure size 640x480 with 1 Axes>"
            ]
          },
          "metadata": {},
          "output_type": "display_data"
        }
      ],
      "source": [
        "plt.imshow(frames[30])\n"
      ]
    },
    {
      "cell_type": "code",
      "execution_count": 12,
      "metadata": {
        "colab": {
          "base_uri": "https://localhost:8080/",
          "height": 245
        },
        "id": "uSXPd37IAdFt",
        "outputId": "a0662401-6476-4c0b-ce9c-0c947cbc5dd5"
      },
      "outputs": [
        {
          "data": {
            "text/plain": [
              "<matplotlib.image.AxesImage at 0x23e124131d0>"
            ]
          },
          "execution_count": 12,
          "metadata": {},
          "output_type": "execute_result"
        },
        {
          "data": {
            "image/png": "[encoded data removed]",
            "text/plain": [
              "<Figure size 640x480 with 1 Axes>"
            ]
          },
          "metadata": {},
          "output_type": "display_data"
        }
      ],
      "source": [
        "plt.imshow(frames[25])\n"
      ]
    },
    {
      "cell_type": "code",
      "execution_count": 13,
      "metadata": {
        "colab": {
          "base_uri": "https://localhost:8080/"
        },
        "id": "nRYImUbT8_Y_",
        "outputId": "22f7a09c-9220-4ba8-a55f-15d30d371fd5"
      },
      "outputs": [
        {
          "data": {
            "text/plain": [
              "<tf.Tensor: shape=(21,), dtype=int64, numpy=\n",
              "array([ 2,  9, 14, 39,  2, 12, 21,  5, 39,  1, 20, 39, 12, 39, 19,  9, 24,\n",
              "       39, 14, 15, 23], dtype=int64)>"
            ]
          },
          "execution_count": 13,
          "metadata": {},
          "output_type": "execute_result"
        }
      ],
      "source": [
        "alignments\n"
      ]
    },
    {
      "cell_type": "code",
      "execution_count": 14,
      "metadata": {
        "colab": {
          "base_uri": "https://localhost:8080/"
        },
        "id": "hUv2ypT-8_em",
        "outputId": "54242913-495b-4580-c9f7-4ba251a87a88"
      },
      "outputs": [
        {
          "data": {
            "text/plain": [
              "<tf.Tensor: shape=(), dtype=string, numpy=b'bin blue at l six now'>"
            ]
          },
          "execution_count": 14,
          "metadata": {},
          "output_type": "execute_result"
        }
      ],
      "source": [
        "tf.strings.reduce_join([bytes.decode(x) for x in num_to_char(alignments.numpy()).numpy()])\n"
      ]
    },
    {
      "cell_type": "code",
      "execution_count": 15,
      "metadata": {
        "id": "akOgy2ln9IJT"
      },
      "outputs": [],
      "source": [
        "def mappable_function(path:str) ->List[str]:\n",
        "    result = tf.py_function(load_data_by_path, [path], (tf.float32, tf.int64))\n",
        "    return result"
      ]
    },
    {
      "attachments": {},
      "cell_type": "markdown",
      "metadata": {
        "id": "i5vJx8K89_30"
      },
      "source": [
        "#3. Data **Pipeline**"
      ]
    },
    {
      "cell_type": "code",
      "execution_count": 16,
      "metadata": {
        "id": "7RClvibKBXoZ"
      },
      "outputs": [],
      "source": [
        "from matplotlib import pyplot as plt"
      ]
    },
    {
      "cell_type": "code",
      "execution_count": 17,
      "metadata": {
        "id": "VubDRz1DAupG"
      },
      "outputs": [],
      "source": [
        "data = tf.data.Dataset.list_files('./data/s1/*.mpg')\n",
        "data = data.shuffle(500)\n",
        "data = data.map(mappable_function)\n",
        "data = data.padded_batch(2, padded_shapes=([75,None,None,None],[40]))\n",
        "data = data.prefetch(tf.data.AUTOTUNE)\n",
        "\n",
        "train = data.take(450)\n",
        "test = data.skip(450)"
      ]
    },
    {
      "cell_type": "code",
      "execution_count": 18,
      "metadata": {
        "colab": {
          "base_uri": "https://localhost:8080/"
        },
        "id": "IYliG46DBBrN",
        "outputId": "90e8cfa1-9a07-41fe-ad5f-7fd837025e74"
      },
      "outputs": [
        {
          "data": {
            "text/plain": [
              "array([[12,  1, 25, 39, 23,  8,  9, 20,  5, 39,  9, 14, 39, 25, 39,  5,\n",
              "         9,  7,  8, 20, 39, 16, 12,  5,  1, 19,  5,  0,  0,  0,  0,  0,\n",
              "         0,  0,  0,  0,  0,  0,  0,  0],\n",
              "       [16, 12,  1,  3,  5, 39,  7, 18,  5,  5, 14, 39,  1, 20, 39,  5,\n",
              "        39, 15, 14,  5, 39,  1,  7,  1,  9, 14,  0,  0,  0,  0,  0,  0,\n",
              "         0,  0,  0,  0,  0,  0,  0,  0]], dtype=int64)"
            ]
          },
          "execution_count": 18,
          "metadata": {},
          "output_type": "execute_result"
        }
      ],
      "source": [
        "frames, alignments = data.as_numpy_iterator().next()\n",
        "alignments"
      ]
    },
    {
      "cell_type": "code",
      "execution_count": 19,
      "metadata": {
        "id": "0wiYh31fCg_o"
      },
      "outputs": [],
      "source": [
        "test = data.as_numpy_iterator()"
      ]
    },
    {
      "cell_type": "code",
      "execution_count": 20,
      "metadata": {
        "colab": {
          "base_uri": "https://localhost:8080/"
        },
        "id": "C1r1j8rZDYA6",
        "outputId": "34c30b86-c524-493a-9596-c37670db7390"
      },
      "outputs": [
        {
          "data": {
            "text/plain": [
              "array([[[[[ 1.3683294 ],\n",
              "          [ 1.3683294 ],\n",
              "          [ 1.3683294 ],\n",
              "          ...,\n",
              "          [ 9.282451  ],\n",
              "          [ 0.14792751],\n",
              "          [ 0.14792751]],\n",
              "\n",
              "         [[ 1.3683294 ],\n",
              "          [ 1.3683294 ],\n",
              "          [ 1.3683294 ],\n",
              "          ...,\n",
              "          [ 9.282451  ],\n",
              "          [ 0.        ],\n",
              "          [ 0.        ]],\n",
              "\n",
              "         [[ 1.2943656 ],\n",
              "          [ 1.2943656 ],\n",
              "          [ 1.2943656 ],\n",
              "          ...,\n",
              "          [ 0.11094563],\n",
              "          [ 0.22189125],\n",
              "          [ 0.22189125]],\n",
              "\n",
              "         ...,\n",
              "\n",
              "         [[ 0.9615288 ],\n",
              "          [ 0.9615288 ],\n",
              "          [ 0.9615288 ],\n",
              "          ...,\n",
              "          [ 0.        ],\n",
              "          [ 9.430379  ],\n",
              "          [ 9.430379  ]],\n",
              "\n",
              "         [[ 0.9615288 ],\n",
              "          [ 0.9615288 ],\n",
              "          [ 0.9615288 ],\n",
              "          ...,\n",
              "          [ 0.        ],\n",
              "          [ 9.430379  ],\n",
              "          [ 9.430379  ]],\n",
              "\n",
              "         [[ 0.9615288 ],\n",
              "          [ 0.9615288 ],\n",
              "          [ 0.9615288 ],\n",
              "          ...,\n",
              "          [ 0.        ],\n",
              "          [ 9.430379  ],\n",
              "          [ 9.430379  ]]],\n",
              "\n",
              "\n",
              "        [[[ 1.4422932 ],\n",
              "          [ 1.4422932 ],\n",
              "          [ 1.4053113 ],\n",
              "          ...,\n",
              "          [ 9.356415  ],\n",
              "          [ 0.25887313],\n",
              "          [ 0.29585502]],\n",
              "\n",
              "         [[ 1.4422932 ],\n",
              "          [ 1.4422932 ],\n",
              "          [ 1.4053113 ],\n",
              "          ...,\n",
              "          [ 9.319433  ],\n",
              "          [ 0.29585502],\n",
              "          [ 0.07396375]],\n",
              "\n",
              "         [[ 1.3313476 ],\n",
              "          [ 1.3313476 ],\n",
              "          [ 1.3313476 ],\n",
              "          ...,\n",
              "          [ 0.18490939],\n",
              "          [ 0.25887313],\n",
              "          [ 0.25887313]],\n",
              "\n",
              "         ...,\n",
              "\n",
              "         [[ 0.99851066],\n",
              "          [ 0.99851066],\n",
              "          [ 0.9615288 ],\n",
              "          ...,\n",
              "          [ 9.430379  ],\n",
              "          [ 9.393396  ],\n",
              "          [ 9.393396  ]],\n",
              "\n",
              "         [[ 0.99851066],\n",
              "          [ 0.99851066],\n",
              "          [ 0.99851066],\n",
              "          ...,\n",
              "          [ 9.393396  ],\n",
              "          [ 9.356415  ],\n",
              "          [ 9.356415  ]],\n",
              "\n",
              "         [[ 0.99851066],\n",
              "          [ 0.99851066],\n",
              "          [ 0.99851066],\n",
              "          ...,\n",
              "          [ 9.393396  ],\n",
              "          [ 9.356415  ],\n",
              "          [ 9.356415  ]]],\n",
              "\n",
              "\n",
              "        [[[ 1.3313476 ],\n",
              "          [ 1.3313476 ],\n",
              "          [ 1.2943656 ],\n",
              "          ...,\n",
              "          [ 9.282451  ],\n",
              "          [ 0.22189125],\n",
              "          [ 0.29585502]],\n",
              "\n",
              "         [[ 1.3313476 ],\n",
              "          [ 1.3313476 ],\n",
              "          [ 1.2943656 ],\n",
              "          ...,\n",
              "          [ 9.356415  ],\n",
              "          [ 0.25887313],\n",
              "          [ 0.11094563]],\n",
              "\n",
              "         [[ 1.3683294 ],\n",
              "          [ 1.3683294 ],\n",
              "          [ 1.3683294 ],\n",
              "          ...,\n",
              "          [ 0.07396375],\n",
              "          [ 0.22189125],\n",
              "          [ 0.22189125]],\n",
              "\n",
              "         ...,\n",
              "\n",
              "         [[ 0.9615288 ],\n",
              "          [ 0.9615288 ],\n",
              "          [ 0.9615288 ],\n",
              "          ...,\n",
              "          [ 9.430379  ],\n",
              "          [ 9.430379  ],\n",
              "          [ 9.430379  ]],\n",
              "\n",
              "         [[ 0.99851066],\n",
              "          [ 1.0354925 ],\n",
              "          [ 0.99851066],\n",
              "          ...,\n",
              "          [ 9.430379  ],\n",
              "          [ 9.393396  ],\n",
              "          [ 9.393396  ]],\n",
              "\n",
              "         [[ 0.9245469 ],\n",
              "          [ 0.99851066],\n",
              "          [ 0.9245469 ],\n",
              "          ...,\n",
              "          [ 9.430379  ],\n",
              "          [ 9.393396  ],\n",
              "          [ 9.393396  ]]],\n",
              "\n",
              "\n",
              "        ...,\n",
              "\n",
              "\n",
              "        [[[ 1.4422932 ],\n",
              "          [ 1.4422932 ],\n",
              "          [ 1.4422932 ],\n",
              "          ...,\n",
              "          [ 0.3328369 ],\n",
              "          [ 9.356415  ],\n",
              "          [ 8.986596  ]],\n",
              "\n",
              "         [[ 1.3683294 ],\n",
              "          [ 1.3683294 ],\n",
              "          [ 1.3683294 ],\n",
              "          ...,\n",
              "          [ 9.134523  ],\n",
              "          [ 9.06056   ],\n",
              "          [ 9.06056   ]],\n",
              "\n",
              "         [[ 1.3683294 ],\n",
              "          [ 1.3683294 ],\n",
              "          [ 1.3683294 ],\n",
              "          ...,\n",
              "          [ 9.097542  ],\n",
              "          [ 0.07396375],\n",
              "          [ 0.07396375]],\n",
              "\n",
              "         ...,\n",
              "\n",
              "         [[ 0.9615288 ],\n",
              "          [ 0.9615288 ],\n",
              "          [ 0.99851066],\n",
              "          ...,\n",
              "          [ 0.07396375],\n",
              "          [ 0.03698188],\n",
              "          [ 0.        ]],\n",
              "\n",
              "         [[ 0.9615288 ],\n",
              "          [ 0.9615288 ],\n",
              "          [ 0.99851066],\n",
              "          ...,\n",
              "          [ 0.03698188],\n",
              "          [ 0.        ],\n",
              "          [ 0.        ]],\n",
              "\n",
              "         [[ 0.9615288 ],\n",
              "          [ 0.9615288 ],\n",
              "          [ 0.9245469 ],\n",
              "          ...,\n",
              "          [ 0.03698188],\n",
              "          [ 0.        ],\n",
              "          [ 9.430379  ]]],\n",
              "\n",
              "\n",
              "        [[[ 1.3683294 ],\n",
              "          [ 1.3683294 ],\n",
              "          [ 1.3683294 ],\n",
              "          ...,\n",
              "          [ 0.25887313],\n",
              "          [ 9.2084875 ],\n",
              "          [ 9.06056   ]],\n",
              "\n",
              "         [[ 1.4422932 ],\n",
              "          [ 1.4422932 ],\n",
              "          [ 1.4422932 ],\n",
              "          ...,\n",
              "          [ 8.986596  ],\n",
              "          [ 8.949615  ],\n",
              "          [ 9.134523  ]],\n",
              "\n",
              "         [[ 1.4422932 ],\n",
              "          [ 1.4422932 ],\n",
              "          [ 1.4792751 ],\n",
              "          ...,\n",
              "          [ 9.097542  ],\n",
              "          [ 0.07396375],\n",
              "          [ 0.07396375]],\n",
              "\n",
              "         ...,\n",
              "\n",
              "         [[ 0.9615288 ],\n",
              "          [ 0.9615288 ],\n",
              "          [ 0.99851066],\n",
              "          ...,\n",
              "          [ 0.03698188],\n",
              "          [ 0.07396375],\n",
              "          [ 0.03698188]],\n",
              "\n",
              "         [[ 0.9615288 ],\n",
              "          [ 0.9615288 ],\n",
              "          [ 0.99851066],\n",
              "          ...,\n",
              "          [ 0.        ],\n",
              "          [ 0.        ],\n",
              "          [ 0.        ]],\n",
              "\n",
              "         [[ 0.9615288 ],\n",
              "          [ 0.9615288 ],\n",
              "          [ 0.9245469 ],\n",
              "          ...,\n",
              "          [ 0.        ],\n",
              "          [ 0.        ],\n",
              "          [ 9.430379  ]]],\n",
              "\n",
              "\n",
              "        [[[ 1.3683294 ],\n",
              "          [ 1.3683294 ],\n",
              "          [ 1.4053113 ],\n",
              "          ...,\n",
              "          [ 0.3328369 ],\n",
              "          [ 9.245469  ],\n",
              "          [ 9.06056   ]],\n",
              "\n",
              "         [[ 1.4422932 ],\n",
              "          [ 1.4422932 ],\n",
              "          [ 1.4792751 ],\n",
              "          ...,\n",
              "          [ 8.986596  ],\n",
              "          [ 8.949615  ],\n",
              "          [ 9.134523  ]],\n",
              "\n",
              "         [[ 1.3683294 ],\n",
              "          [ 1.3683294 ],\n",
              "          [ 1.3313476 ],\n",
              "          ...,\n",
              "          [ 9.023578  ],\n",
              "          [ 9.393396  ],\n",
              "          [ 0.03698188]],\n",
              "\n",
              "         ...,\n",
              "\n",
              "         [[ 0.99851066],\n",
              "          [ 0.9615288 ],\n",
              "          [ 0.99851066],\n",
              "          ...,\n",
              "          [ 0.07396375],\n",
              "          [ 0.03698188],\n",
              "          [ 0.        ]],\n",
              "\n",
              "         [[ 0.99851066],\n",
              "          [ 0.9615288 ],\n",
              "          [ 0.99851066],\n",
              "          ...,\n",
              "          [ 0.03698188],\n",
              "          [ 0.        ],\n",
              "          [ 0.        ]],\n",
              "\n",
              "         [[ 0.9615288 ],\n",
              "          [ 0.9615288 ],\n",
              "          [ 0.9245469 ],\n",
              "          ...,\n",
              "          [ 0.03698188],\n",
              "          [ 0.        ],\n",
              "          [ 9.430379  ]]]],\n",
              "\n",
              "\n",
              "\n",
              "       [[[[ 1.377576  ],\n",
              "          [ 1.377576  ],\n",
              "          [ 1.3382167 ],\n",
              "          ...,\n",
              "          [ 9.603673  ],\n",
              "          [ 9.564314  ],\n",
              "          [ 9.446236  ]],\n",
              "\n",
              "         [[ 1.377576  ],\n",
              "          [ 1.377576  ],\n",
              "          [ 1.3382167 ],\n",
              "          ...,\n",
              "          [ 9.013283  ],\n",
              "          [ 9.446236  ],\n",
              "          [ 9.643032  ]],\n",
              "\n",
              "         [[ 1.2988575 ],\n",
              "          [ 1.2988575 ],\n",
              "          [ 1.2988575 ],\n",
              "          ...,\n",
              "          [ 9.8398285 ],\n",
              "          [ 0.        ],\n",
              "          [ 0.        ]],\n",
              "\n",
              "         ...,\n",
              "\n",
              "         [[ 0.9446236 ],\n",
              "          [ 0.9446236 ],\n",
              "          [ 0.9446236 ],\n",
              "          ...,\n",
              "          [10.036625  ],\n",
              "          [ 9.997266  ],\n",
              "          [ 9.997266  ]],\n",
              "\n",
              "         [[ 0.9446236 ],\n",
              "          [ 0.9446236 ],\n",
              "          [ 0.9446236 ],\n",
              "          ...,\n",
              "          [ 9.879189  ],\n",
              "          [ 9.918548  ],\n",
              "          [ 9.879189  ]],\n",
              "\n",
              "         [[ 0.9446236 ],\n",
              "          [ 0.9446236 ],\n",
              "          [ 0.9446236 ],\n",
              "          ...,\n",
              "          [ 9.8398285 ],\n",
              "          [ 9.879189  ],\n",
              "          [ 9.800469  ]]],\n",
              "\n",
              "\n",
              "        [[[ 1.4562947 ],\n",
              "          [ 1.4562947 ],\n",
              "          [ 1.3382167 ],\n",
              "          ...,\n",
              "          [ 9.485595  ],\n",
              "          [ 9.485595  ],\n",
              "          [ 9.721751  ]],\n",
              "\n",
              "         [[ 1.4562947 ],\n",
              "          [ 1.4562947 ],\n",
              "          [ 1.3382167 ],\n",
              "          ...,\n",
              "          [ 8.855845  ],\n",
              "          [ 9.603673  ],\n",
              "          [ 9.643032  ]],\n",
              "\n",
              "         [[ 1.2988575 ],\n",
              "          [ 1.2988575 ],\n",
              "          [ 1.2988575 ],\n",
              "          ...,\n",
              "          [ 9.682391  ],\n",
              "          [ 9.957907  ],\n",
              "          [ 9.957907  ]],\n",
              "\n",
              "         ...,\n",
              "\n",
              "         [[ 0.9446236 ],\n",
              "          [ 0.9446236 ],\n",
              "          [ 0.9446236 ],\n",
              "          ...,\n",
              "          [ 0.        ],\n",
              "          [ 9.997266  ],\n",
              "          [ 9.997266  ]],\n",
              "\n",
              "         [[ 0.9446236 ],\n",
              "          [ 0.9446236 ],\n",
              "          [ 0.9446236 ],\n",
              "          ...,\n",
              "          [ 9.918548  ],\n",
              "          [ 9.997266  ],\n",
              "          [ 9.957907  ]],\n",
              "\n",
              "         [[ 0.9446236 ],\n",
              "          [ 0.9446236 ],\n",
              "          [ 0.9446236 ],\n",
              "          ...,\n",
              "          [ 9.879189  ],\n",
              "          [ 9.879189  ],\n",
              "          [ 9.879189  ]]],\n",
              "\n",
              "\n",
              "        [[[ 1.377576  ],\n",
              "          [ 1.377576  ],\n",
              "          [ 1.3382167 ],\n",
              "          ...,\n",
              "          [ 9.564314  ],\n",
              "          [ 9.524954  ],\n",
              "          [ 9.643032  ]],\n",
              "\n",
              "         [[ 1.377576  ],\n",
              "          [ 1.377576  ],\n",
              "          [ 1.3382167 ],\n",
              "          ...,\n",
              "          [ 8.934565  ],\n",
              "          [ 9.564314  ],\n",
              "          [ 9.682391  ]],\n",
              "\n",
              "         [[ 1.2988575 ],\n",
              "          [ 1.2988575 ],\n",
              "          [ 1.2988575 ],\n",
              "          ...,\n",
              "          [ 9.721751  ],\n",
              "          [10.036625  ],\n",
              "          [10.036625  ]],\n",
              "\n",
              "         ...,\n",
              "\n",
              "         [[ 0.9446236 ],\n",
              "          [ 0.9446236 ],\n",
              "          [ 0.9446236 ],\n",
              "          ...,\n",
              "          [10.036625  ],\n",
              "          [ 9.957907  ],\n",
              "          [ 9.997266  ]],\n",
              "\n",
              "         [[ 0.9446236 ],\n",
              "          [ 0.9446236 ],\n",
              "          [ 0.9446236 ],\n",
              "          ...,\n",
              "          [ 9.918548  ],\n",
              "          [ 9.997266  ],\n",
              "          [ 9.957907  ]],\n",
              "\n",
              "         [[ 0.9446236 ],\n",
              "          [ 0.9446236 ],\n",
              "          [ 0.9446236 ],\n",
              "          ...,\n",
              "          [ 9.918548  ],\n",
              "          [ 9.879189  ],\n",
              "          [ 9.879189  ]]],\n",
              "\n",
              "\n",
              "        ...,\n",
              "\n",
              "\n",
              "        [[[ 1.3382167 ],\n",
              "          [ 1.3382167 ],\n",
              "          [ 1.3382167 ],\n",
              "          ...,\n",
              "          [ 9.288798  ],\n",
              "          [ 9.800469  ],\n",
              "          [ 9.879189  ]],\n",
              "\n",
              "         [[ 1.3382167 ],\n",
              "          [ 1.3382167 ],\n",
              "          [ 1.2988575 ],\n",
              "          ...,\n",
              "          [ 9.21008   ],\n",
              "          [ 9.957907  ],\n",
              "          [ 9.879189  ]],\n",
              "\n",
              "         [[ 1.2988575 ],\n",
              "          [ 1.2988575 ],\n",
              "          [ 1.2594981 ],\n",
              "          ...,\n",
              "          [ 9.957907  ],\n",
              "          [10.036625  ],\n",
              "          [10.036625  ]],\n",
              "\n",
              "         ...,\n",
              "\n",
              "         [[ 1.0233421 ],\n",
              "          [ 1.0233421 ],\n",
              "          [ 0.98398286],\n",
              "          ...,\n",
              "          [ 9.957907  ],\n",
              "          [ 9.957907  ],\n",
              "          [ 9.957907  ]],\n",
              "\n",
              "         [[ 1.0233421 ],\n",
              "          [ 1.0233421 ],\n",
              "          [ 0.98398286],\n",
              "          ...,\n",
              "          [ 9.918548  ],\n",
              "          [ 9.997266  ],\n",
              "          [ 9.997266  ]],\n",
              "\n",
              "         [[ 1.0233421 ],\n",
              "          [ 1.0233421 ],\n",
              "          [ 0.9446236 ],\n",
              "          ...,\n",
              "          [ 9.918548  ],\n",
              "          [ 9.957907  ],\n",
              "          [ 9.957907  ]]],\n",
              "\n",
              "\n",
              "        [[[ 1.2594981 ],\n",
              "          [ 1.2594981 ],\n",
              "          [ 1.377576  ],\n",
              "          ...,\n",
              "          [ 9.17072   ],\n",
              "          [ 9.800469  ],\n",
              "          [ 9.997266  ]],\n",
              "\n",
              "         [[ 1.2594981 ],\n",
              "          [ 1.2594981 ],\n",
              "          [ 1.3382167 ],\n",
              "          ...,\n",
              "          [ 9.21008   ],\n",
              "          [ 9.879189  ],\n",
              "          [ 9.8398285 ]],\n",
              "\n",
              "         [[ 1.3382167 ],\n",
              "          [ 1.3382167 ],\n",
              "          [ 1.3382167 ],\n",
              "          ...,\n",
              "          [ 9.957907  ],\n",
              "          [ 0.        ],\n",
              "          [ 0.        ]],\n",
              "\n",
              "         ...,\n",
              "\n",
              "         [[ 1.0233421 ],\n",
              "          [ 1.0233421 ],\n",
              "          [ 0.98398286],\n",
              "          ...,\n",
              "          [ 0.        ],\n",
              "          [ 9.997266  ],\n",
              "          [ 9.879189  ]],\n",
              "\n",
              "         [[ 1.0233421 ],\n",
              "          [ 1.0233421 ],\n",
              "          [ 0.98398286],\n",
              "          ...,\n",
              "          [ 9.997266  ],\n",
              "          [10.036625  ],\n",
              "          [ 9.997266  ]],\n",
              "\n",
              "         [[ 0.98398286],\n",
              "          [ 0.98398286],\n",
              "          [ 0.90526426],\n",
              "          ...,\n",
              "          [ 9.957907  ],\n",
              "          [ 9.997266  ],\n",
              "          [ 9.997266  ]]],\n",
              "\n",
              "\n",
              "        [[[ 1.2594981 ],\n",
              "          [ 1.2594981 ],\n",
              "          [ 1.377576  ],\n",
              "          ...,\n",
              "          [ 9.131361  ],\n",
              "          [ 9.800469  ],\n",
              "          [ 9.997266  ]],\n",
              "\n",
              "         [[ 1.2594981 ],\n",
              "          [ 1.2594981 ],\n",
              "          [ 1.3382167 ],\n",
              "          ...,\n",
              "          [ 9.17072   ],\n",
              "          [ 9.8398285 ],\n",
              "          [ 9.997266  ]],\n",
              "\n",
              "         [[ 1.3382167 ],\n",
              "          [ 1.3382167 ],\n",
              "          [ 1.3382167 ],\n",
              "          ...,\n",
              "          [ 9.957907  ],\n",
              "          [10.036625  ],\n",
              "          [10.036625  ]],\n",
              "\n",
              "         ...,\n",
              "\n",
              "         [[ 1.0233421 ],\n",
              "          [ 0.98398286],\n",
              "          [ 0.9446236 ],\n",
              "          ...,\n",
              "          [ 0.        ],\n",
              "          [ 9.997266  ],\n",
              "          [ 9.879189  ]],\n",
              "\n",
              "         [[ 0.9446236 ],\n",
              "          [ 0.90526426],\n",
              "          [ 0.90526426],\n",
              "          ...,\n",
              "          [ 9.997266  ],\n",
              "          [ 0.        ],\n",
              "          [ 9.997266  ]],\n",
              "\n",
              "         [[ 0.9446236 ],\n",
              "          [ 0.9446236 ],\n",
              "          [ 0.9446236 ],\n",
              "          ...,\n",
              "          [ 9.957907  ],\n",
              "          [ 9.997266  ],\n",
              "          [ 9.997266  ]]]]], dtype=float32)"
            ]
          },
          "execution_count": 20,
          "metadata": {},
          "output_type": "execute_result"
        }
      ],
      "source": [
        "val = test.next(); val[0]"
      ]
    },
    {
      "cell_type": "code",
      "execution_count": 21,
      "metadata": {
        "colab": {
          "base_uri": "https://localhost:8080/"
        },
        "id": "YOQX4VmhDdaB",
        "outputId": "6d9f7b45-d8d4-45de-cf31-d82f7abc3851"
      },
      "outputs": [],
      "source": [
        "import imageio\n",
        "import numpy as np\n",
        "\n",
        "converted_array = (val[0][1] * 255).astype(np.uint8)\n",
        "grayscale_array = np.squeeze(converted_array)\n",
        "\n",
        "imageio.mimsave('animation.gif', grayscale_array, duration=100)"
      ]
    },
    {
      "cell_type": "code",
      "execution_count": 22,
      "metadata": {
        "colab": {
          "base_uri": "https://localhost:8080/",
          "height": 245
        },
        "id": "4YmsDnTDEVid",
        "outputId": "499321d0-67d3-4319-925d-25a0c4d8a96d"
      },
      "outputs": [
        {
          "data": {
            "text/plain": [
              "<matplotlib.image.AxesImage at 0x23e14c33010>"
            ]
          },
          "execution_count": 22,
          "metadata": {},
          "output_type": "execute_result"
        },
        {
          "data": {
            "image/png": "[encoded data removed]",
            "text/plain": [
              "<Figure size 640x480 with 1 Axes>"
            ]
          },
          "metadata": {},
          "output_type": "display_data"
        }
      ],
      "source": [
        "plt.imshow(val[0][0][15])"
      ]
    },
    {
      "cell_type": "code",
      "execution_count": 23,
      "metadata": {
        "colab": {
          "base_uri": "https://localhost:8080/"
        },
        "id": "-_OVxDnpFErX",
        "outputId": "aadddde6-9eba-4a20-cbee-0de2cfbf6a0c"
      },
      "outputs": [
        {
          "data": {
            "text/plain": [
              "<tf.Tensor: shape=(), dtype=string, numpy=b'lay white at r seven soon'>"
            ]
          },
          "execution_count": 23,
          "metadata": {},
          "output_type": "execute_result"
        }
      ],
      "source": [
        "tf.strings.reduce_join([num_to_char(word) for word in val[1][0]])"
      ]
    },
    {
      "attachments": {},
      "cell_type": "markdown",
      "metadata": {
        "id": "p8AwbS4qFgKI"
      },
      "source": [
        "# Desiging the Neural Net"
      ]
    },
    {
      "cell_type": "code",
      "execution_count": 24,
      "metadata": {
        "id": "iJPJbDF6FnJ5"
      },
      "outputs": [],
      "source": [
        "from tensorflow.keras.models import Sequential \n",
        "from tensorflow.keras.layers import Conv3D, LSTM, Dense, Dropout, Bidirectional, MaxPool3D, Activation, Reshape, SpatialDropout3D, BatchNormalization, TimeDistributed, Flatten\n",
        "from tensorflow.keras.optimizers import Adam\n",
        "from tensorflow.keras.callbacks import ModelCheckpoint, LearningRateScheduler"
      ]
    },
    {
      "cell_type": "code",
      "execution_count": 25,
      "metadata": {
        "colab": {
          "base_uri": "https://localhost:8080/"
        },
        "id": "GLTqHs4YMXUR",
        "outputId": "a2f4cae2-69c3-4eb3-e46b-33be66a39118"
      },
      "outputs": [
        {
          "data": {
            "text/plain": [
              "(75, 46, 140, 1)"
            ]
          },
          "execution_count": 25,
          "metadata": {},
          "output_type": "execute_result"
        }
      ],
      "source": [
        "data.as_numpy_iterator().next()[0][0].shape\n"
      ]
    },
    {
      "cell_type": "code",
      "execution_count": 26,
      "metadata": {
        "id": "w-zYxeBCMpzK"
      },
      "outputs": [],
      "source": [
        "model = Sequential()\n",
        "model.add(Conv3D(128, 3, input_shape=(75,46,140,1), padding='same'))\n",
        "model.add(Activation('relu'))\n",
        "model.add(MaxPool3D((1,2,2)))\n",
        "\n",
        "model.add(Conv3D(256, 3, input_shape=(75,46,140,1), padding='same'))\n",
        "model.add(Activation('relu'))\n",
        "model.add(MaxPool3D((1,2,2)))\n",
        "\n",
        "model.add(Conv3D(75, 3, input_shape=(75,46,140,1), padding='same'))\n",
        "model.add(Activation('relu'))\n",
        "model.add(MaxPool3D((1,2,2)))\n",
        "\n",
        "model.add(TimeDistributed(Flatten()))\n",
        "\n",
        "model.add(Bidirectional(LSTM(128, kernel_initializer='Orthogonal', return_sequences=True)))\n",
        "model.add(Dropout(.5))\n",
        "\n",
        "model.add(Bidirectional(LSTM(128, kernel_initializer='Orthogonal', return_sequences=True)))\n",
        "model.add(Dropout(.5))\n",
        "\n",
        "model.add(Dense(char_to_num.vocabulary_size()+1, kernel_initializer='he_normal', activation='softmax'))"
      ]
    },
    {
      "cell_type": "code",
      "execution_count": 27,
      "metadata": {
        "colab": {
          "base_uri": "https://localhost:8080/"
        },
        "id": "fYarvIYLQxUN",
        "outputId": "e780c130-2d49-4b11-b7ea-cceb5f43c343"
      },
      "outputs": [
        {
          "name": "stdout",
          "output_type": "stream",
          "text": [
            "Model: \"sequential\"\n",
            "_________________________________________________________________\n",
            " Layer (type)                Output Shape              Param #   \n",
            "=================================================================\n",
            " conv3d (Conv3D)             (None, 75, 46, 140, 128)  3584      \n",
            "                                                                 \n",
            " activation (Activation)     (None, 75, 46, 140, 128)  0         \n",
            "                                                                 \n",
            " max_pooling3d (MaxPooling3D  (None, 75, 23, 70, 128)  0         \n",
            " )                                                               \n",
            "                                                                 \n",
            " conv3d_1 (Conv3D)           (None, 75, 23, 70, 256)   884992    \n",
            "                                                                 \n",
            " activation_1 (Activation)   (None, 75, 23, 70, 256)   0         \n",
            "                                                                 \n",
            " max_pooling3d_1 (MaxPooling  (None, 75, 11, 35, 256)  0         \n",
            " 3D)                                                             \n",
            "                                                                 \n",
            " conv3d_2 (Conv3D)           (None, 75, 11, 35, 75)    518475    \n",
            "                                                                 \n",
            " activation_2 (Activation)   (None, 75, 11, 35, 75)    0         \n",
            "                                                                 \n",
            " max_pooling3d_2 (MaxPooling  (None, 75, 5, 17, 75)    0         \n",
            " 3D)                                                             \n",
            "                                                                 \n",
            " time_distributed (TimeDistr  (None, 75, 6375)         0         \n",
            " ibuted)                                                         \n",
            "                                                                 \n",
            " bidirectional (Bidirectiona  (None, 75, 256)          6660096   \n",
            " l)                                                              \n",
            "                                                                 \n",
            " dropout (Dropout)           (None, 75, 256)           0         \n",
            "                                                                 \n",
            " bidirectional_1 (Bidirectio  (None, 75, 256)          394240    \n",
            " nal)                                                            \n",
            "                                                                 \n",
            " dropout_1 (Dropout)         (None, 75, 256)           0         \n",
            "                                                                 \n",
            " dense (Dense)               (None, 75, 41)            10537     \n",
            "                                                                 \n",
            "=================================================================\n",
            "Total params: 8,471,924\n",
            "Trainable params: 8,471,924\n",
            "Non-trainable params: 0\n",
            "_________________________________________________________________\n"
          ]
        }
      ],
      "source": [
        "model.summary()"
      ]
    },
    {
      "cell_type": "code",
      "execution_count": 28,
      "metadata": {
        "id": "itCud9vqRV2m"
      },
      "outputs": [
        {
          "name": "stdout",
          "output_type": "stream",
          "text": [
            "1/1 [==============================] - 10s 10s/step\n"
          ]
        }
      ],
      "source": [
        "yhat = model.predict(val[0])"
      ]
    },
    {
      "cell_type": "code",
      "execution_count": 29,
      "metadata": {
        "id": "Xqy4im35Rogd"
      },
      "outputs": [
        {
          "data": {
            "text/plain": [
              "<tf.Tensor: shape=(), dtype=string, numpy=b'rrrrrrrrrrrrrrrrrrrrrrrrrrrrrrrrrrrrrrrrrrrrrrrrrrrrrrrrrrrrrrrrrrrrrrrrrrr'>"
            ]
          },
          "execution_count": 29,
          "metadata": {},
          "output_type": "execute_result"
        }
      ],
      "source": [
        "tf.strings.reduce_join([num_to_char(x) for x in tf.argmax(yhat[0],axis=1)])\n"
      ]
    },
    {
      "cell_type": "code",
      "execution_count": 30,
      "metadata": {
        "id": "lL2oVARaSTLE"
      },
      "outputs": [
        {
          "data": {
            "text/plain": [
              "(None, 75, 46, 140, 1)"
            ]
          },
          "execution_count": 30,
          "metadata": {},
          "output_type": "execute_result"
        }
      ],
      "source": [
        "model.input_shape\n"
      ]
    },
    {
      "cell_type": "code",
      "execution_count": 31,
      "metadata": {
        "id": "P8KjblVtSZ8C"
      },
      "outputs": [
        {
          "data": {
            "text/plain": [
              "(None, 75, 41)"
            ]
          },
          "execution_count": 31,
          "metadata": {},
          "output_type": "execute_result"
        }
      ],
      "source": [
        "model.output_shape\n"
      ]
    },
    {
      "attachments": {},
      "cell_type": "markdown",
      "metadata": {
        "id": "vY2RZ9bVSscM"
      },
      "source": [
        "# Setting up Learning"
      ]
    },
    {
      "cell_type": "code",
      "execution_count": 32,
      "metadata": {
        "id": "LxzcHwoOTdBA"
      },
      "outputs": [],
      "source": [
        "def scheduler(epoch, lr):\n",
        "    if epoch < 30:\n",
        "        return lr\n",
        "    else:\n",
        "        return lr * tf.math.exp(-0.1)"
      ]
    },
    {
      "cell_type": "code",
      "execution_count": 33,
      "metadata": {
        "id": "NGIbg60DSvnG"
      },
      "outputs": [],
      "source": [
        "def CTCLoss(y_true, y_pred):\n",
        "    batch_len = tf.cast(tf.shape(y_true)[0], dtype=\"int64\")\n",
        "    input_length = tf.cast(tf.shape(y_pred)[1], dtype=\"int64\")\n",
        "    label_length = tf.cast(tf.shape(y_true)[1], dtype=\"int64\")\n",
        "\n",
        "    input_length = input_length * tf.ones(shape=(batch_len, 1), dtype=\"int64\")\n",
        "    label_length = label_length * tf.ones(shape=(batch_len, 1), dtype=\"int64\")\n",
        "\n",
        "    loss = tf.keras.backend.ctc_batch_cost(y_true, y_pred, input_length, label_length)\n",
        "    return loss"
      ]
    },
    {
      "cell_type": "code",
      "execution_count": 34,
      "metadata": {
        "id": "VAiYab8_Tfmb"
      },
      "outputs": [],
      "source": [
        "class ProduceExample(tf.keras.callbacks.Callback): \n",
        "    def __init__(self, dataset) -> None: \n",
        "        self.dataset = dataset.as_numpy_iterator()\n",
        "    \n",
        "    def on_epoch_end(self, epoch, logs=None) -> None:\n",
        "        data = self.dataset.next()\n",
        "        yhat = self.model.predict(data[0])\n",
        "        decoded = tf.keras.backend.ctc_decode(yhat, [75,75], greedy=False)[0][0].numpy()\n",
        "        for x in range(len(yhat)):           \n",
        "            print('Original:', tf.strings.reduce_join(num_to_char(data[1][x])).numpy().decode('utf-8'))\n",
        "            print('Prediction:', tf.strings.reduce_join(num_to_char(decoded[x])).numpy().decode('utf-8'))\n",
        "            print('~'*100)"
      ]
    },
    {
      "cell_type": "code",
      "execution_count": 35,
      "metadata": {
        "id": "ZvkjkaLkTyPm"
      },
      "outputs": [],
      "source": [
        "model.compile(optimizer=Adam(learning_rate=0.0001), loss=CTCLoss)"
      ]
    },
    {
      "cell_type": "code",
      "execution_count": 36,
      "metadata": {
        "id": "7KYhlmz4Tzyy"
      },
      "outputs": [],
      "source": [
        "checkpoint_callback = ModelCheckpoint(os.path.join('models','checkpoint'), monitor='loss', save_weights_only=True) \n"
      ]
    },
    {
      "cell_type": "code",
      "execution_count": 37,
      "metadata": {
        "id": "P9yiyxnUT1JF"
      },
      "outputs": [],
      "source": [
        "schedule_callback = LearningRateScheduler(scheduler)\n"
      ]
    },
    {
      "cell_type": "code",
      "execution_count": 38,
      "metadata": {
        "id": "JGgo1iUjT2jB"
      },
      "outputs": [],
      "source": [
        "example_callback = ProduceExample(data)      \n"
      ]
    },
    {
      "cell_type": "code",
      "execution_count": 39,
      "metadata": {
        "id": "hOB1gBEkT4YE"
      },
      "outputs": [
        {
          "name": "stdout",
          "output_type": "stream",
          "text": [
            "Epoch 1/100\n",
            "1/1 [==============================] - 12s 12s/step- loss: 85.6050\n",
            "Original: set green by c seven soon\n",
            "Prediction: le e e e e e\n",
            "~~~~~~~~~~~~~~~~~~~~~~~~~~~~~~~~~~~~~~~~~~~~~~~~~~~~~~~~~~~~~~~~~~~~~~~~~~~~~~~~~~~~~~~~~~~~~~~~~~~~\n",
            "Original: place blue in i two please\n",
            "Prediction: le e e e e\n",
            "~~~~~~~~~~~~~~~~~~~~~~~~~~~~~~~~~~~~~~~~~~~~~~~~~~~~~~~~~~~~~~~~~~~~~~~~~~~~~~~~~~~~~~~~~~~~~~~~~~~~\n",
            "450/450 [==============================] - 36946s 82s/step - loss: 85.6050 - val_loss: 70.2444 - lr: 1.0000e-04\n",
            "Epoch 2/100\n",
            "450/450 [==============================] - ETA: 0s - loss: 71.8346  WARNING:tensorflow:Your input ran out of data; interrupting training. Make sure that your dataset or generator can generate at least `steps_per_epoch * epochs` batches (in this case, 499 batches). You may need to use the repeat() function when building your dataset.\n",
            "1/1 [==============================] - 8s 8s/step\n",
            "Original: set red with v one soon\n",
            "Prediction: le e e e on\n",
            "~~~~~~~~~~~~~~~~~~~~~~~~~~~~~~~~~~~~~~~~~~~~~~~~~~~~~~~~~~~~~~~~~~~~~~~~~~~~~~~~~~~~~~~~~~~~~~~~~~~~\n",
            "Original: place green with r five soon\n",
            "Prediction: le e e e on\n",
            "~~~~~~~~~~~~~~~~~~~~~~~~~~~~~~~~~~~~~~~~~~~~~~~~~~~~~~~~~~~~~~~~~~~~~~~~~~~~~~~~~~~~~~~~~~~~~~~~~~~~\n",
            "450/450 [==============================] - 31643s 70s/step - loss: 71.8346 - lr: 1.0000e-04\n",
            "Epoch 3/100\n",
            "1/1 [==============================] - 7s 7s/steps - loss: 68.4341\n",
            "Original: set white by o eight now\n",
            "Prediction: la e e e e ea\n",
            "~~~~~~~~~~~~~~~~~~~~~~~~~~~~~~~~~~~~~~~~~~~~~~~~~~~~~~~~~~~~~~~~~~~~~~~~~~~~~~~~~~~~~~~~~~~~~~~~~~~~\n",
            "Original: bin blue in z sp two please\n",
            "Prediction: la e e e e ea\n",
            "~~~~~~~~~~~~~~~~~~~~~~~~~~~~~~~~~~~~~~~~~~~~~~~~~~~~~~~~~~~~~~~~~~~~~~~~~~~~~~~~~~~~~~~~~~~~~~~~~~~~\n",
            "450/450 [==============================] - 32246s 72s/step - loss: 68.4341 - lr: 1.0000e-04\n",
            "Epoch 4/100\n",
            "147/450 [========>.....................] - ETA: 6:20:30 - loss: 66.8202"
          ]
        }
      ],
      "source": [
        "model.fit(train, validation_data=test, epochs=100, callbacks=[checkpoint_callback, schedule_callback, example_callback])"
      ]
    },
    {
      "attachments": {},
      "cell_type": "markdown",
      "metadata": {
        "id": "9utb98tBkkNe"
      },
      "source": [
        "#Predicitng and testing with dataset\n"
      ]
    },
    {
      "cell_type": "code",
      "execution_count": null,
      "metadata": {
        "id": "lxJhO6PYktPR"
      },
      "outputs": [],
      "source": [
        "model.load_weights('models/checkpoint')"
      ]
    },
    {
      "cell_type": "code",
      "execution_count": null,
      "metadata": {
        "id": "1bbSFAKNku1p"
      },
      "outputs": [],
      "source": [
        "test_data = test.as_numpy_iterator()"
      ]
    },
    {
      "cell_type": "code",
      "execution_count": null,
      "metadata": {
        "id": "ufpTEdHskwK9"
      },
      "outputs": [],
      "source": [
        "sample = test_data.next()"
      ]
    },
    {
      "cell_type": "code",
      "execution_count": null,
      "metadata": {
        "id": "ADUQp2mxk2Ue"
      },
      "outputs": [],
      "source": [
        "yhat = model.predict(sample[0])"
      ]
    },
    {
      "cell_type": "code",
      "execution_count": null,
      "metadata": {
        "id": "3tR_4K9Vk5Me"
      },
      "outputs": [],
      "source": [
        "print('~'*100, 'REAL TEXT')\n",
        "[tf.strings.reduce_join([num_to_char(word) for word in sentence]) for sentence in sample[1]]"
      ]
    },
    {
      "attachments": {},
      "cell_type": "markdown",
      "metadata": {
        "id": "15yOOjE_lH7a"
      },
      "source": [
        "#Testing on Data"
      ]
    },
    {
      "cell_type": "code",
      "execution_count": null,
      "metadata": {
        "id": "_N1ux0Z0lK-2"
      },
      "outputs": [],
      "source": [
        "sample =load_data_by_path(tf.convert_to_tensor('.\\\\data\\\\s1\\\\bras9a.mpg'))"
      ]
    },
    {
      "cell_type": "code",
      "execution_count": null,
      "metadata": {
        "id": "ML3eEJeilPGQ"
      },
      "outputs": [],
      "source": [
        "print('~'*100, 'REAL TEXT')\n",
        "[tf.strings.reduce_join([num_to_char(word) for word in sentence]) for sentence in [sample[1]]]"
      ]
    },
    {
      "cell_type": "code",
      "execution_count": null,
      "metadata": {
        "id": "QBSUUQXglR96"
      },
      "outputs": [],
      "source": [
        "yhat = model.predict(tf.expand_dims(sample[0], axis=0))"
      ]
    },
    {
      "cell_type": "code",
      "execution_count": null,
      "metadata": {
        "id": "f33Iz7I0lVKG"
      },
      "outputs": [],
      "source": [
        "decoded = tf.keras.backend.ctc_decode(yhat, input_length=[75], greedy=True)[0][0].numpy()"
      ]
    },
    {
      "cell_type": "code",
      "execution_count": null,
      "metadata": {
        "id": "4znqSwV7lXsl"
      },
      "outputs": [],
      "source": [
        "print('~'*100, 'PREDICTIONS')\n",
        "[tf.strings.reduce_join([num_to_char(word) for word in sentence]) for sentence in decoded]"
      ]
    }
  ],
  "metadata": {
    "accelerator": "GPU",
    "colab": {
      "provenance": []
    },
    "gpuClass": "standard",
    "kernelspec": {
      "display_name": "Python 3",
      "name": "python3"
    },
    "language_info": {
      "codemirror_mode": {
        "name": "ipython",
        "version": 3
      },
      "file_extension": ".py",
      "mimetype": "text/x-python",
      "name": "python",
      "nbconvert_exporter": "python",
      "pygments_lexer": "ipython3",
      "version": "3.11.3"
    }
  },
  "nbformat": 4,
  "nbformat_minor": 0
}
